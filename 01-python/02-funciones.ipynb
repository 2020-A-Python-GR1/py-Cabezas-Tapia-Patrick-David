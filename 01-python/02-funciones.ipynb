{
 "cells": [
  {
   "cell_type": "code",
   "execution_count": 5,
   "metadata": {},
   "outputs": [
    {
     "name": "stdout",
     "output_type": "stream",
     "text": [
      "hola mundo\n"
     ]
    },
    {
     "data": {
      "text/plain": [
       "NoneType"
      ]
     },
     "execution_count": 5,
     "metadata": {},
     "output_type": "execute_result"
    }
   ],
   "source": [
    "def hola_mundo():\n",
    "    print(\"hola mundo\")\n",
    "type(hola_mundo())"
   ]
  },
  {
   "cell_type": "code",
   "execution_count": 8,
   "metadata": {},
   "outputs": [
    {
     "name": "stdout",
     "output_type": "stream",
     "text": [
      "La suma de 2 y 3 es igual a 5\n"
     ]
    }
   ],
   "source": [
    "def sumar_dos_numeros(num_no,num_dos):\n",
    "    return num_no+num_dos\n",
    "total_suma=sumar_dos_numeros(2,3)\n",
    "print(f\"La suma de 2 y 3 es igual a {total_suma}\")"
   ]
  },
  {
   "cell_type": "code",
   "execution_count": 9,
   "metadata": {},
   "outputs": [
    {
     "name": "stdout",
     "output_type": "stream",
     "text": [
      "Universidad: EPN\n",
      "Universidad: poli\n"
     ]
    }
   ],
   "source": [
    "def imprimir_universidad(nombre=\"EPN\"):\n",
    "    print(f\"Universidad: {nombre}\")\n",
    "imprimir_universidad()\n",
    "imprimir_universidad(\"poli\")"
   ]
  },
  {
   "cell_type": "code",
   "execution_count": 1,
   "metadata": {},
   "outputs": [
    {
     "name": "stdout",
     "output_type": "stream",
     "text": [
      "color: rojo, placa abc123, HP 32, Anio 1989\n",
      "None\n"
     ]
    }
   ],
   "source": [
    "def imprimir_carro(color,placa,hp,anio=1989):\n",
    "    print(f\"color: {color}, placa {placa}, HP {hp}, Anio {anio}\")\n",
    "imprimir_carro(\"rojo\",\"abc123\",\"32\")"
   ]
  },
  {
   "cell_type": "code",
   "execution_count": 5,
   "metadata": {},
   "outputs": [
    {
     "ename": "SyntaxError",
     "evalue": "positional argument follows keyword argument (<ipython-input-5-914e69109f92>, line 3)",
     "output_type": "error",
     "traceback": [
      "\u001b[0;36m  File \u001b[0;32m\"<ipython-input-5-914e69109f92>\"\u001b[0;36m, line \u001b[0;32m3\u001b[0m\n\u001b[0;31m    imprimir_carro(placa=\"pol432\",color=\"azul\",2000)\u001b[0m\n\u001b[0m                                              ^\u001b[0m\n\u001b[0;31mSyntaxError\u001b[0m\u001b[0;31m:\u001b[0m positional argument follows keyword argument\n"
     ]
    }
   ],
   "source": [
    "imprimir_carro(\"azul\",\"pol432\",3000,2000)\n",
    "imprimir_carro(\"azul\",\"pol432\",anio=2000,hp=3000)"
   ]
  },
  {
   "cell_type": "code",
   "execution_count": 7,
   "metadata": {},
   "outputs": [
    {
     "data": {
      "text/plain": [
       "45"
      ]
     },
     "execution_count": 7,
     "metadata": {},
     "output_type": "execute_result"
    }
   ],
   "source": [
    "def suma_numeros(primer_numero,*numeros):\n",
    "    suma=primer_numero\n",
    "    for numero in numeros:\n",
    "        suma = suma + numero\n",
    "    return suma\n",
    "\n",
    "suma_numeros(1,2,3,4,5,6,7,8,9)"
   ]
  },
  {
   "cell_type": "code",
   "execution_count": 12,
   "metadata": {},
   "outputs": [
    {
     "name": "stdout",
     "output_type": "stream",
     "text": [
      "{'saludos': 'algo', 'mensaje': 'texto'}\n",
      "<class 'dict'>\n"
     ]
    }
   ],
   "source": [
    "def establecer_configuraion(**configuracion):\n",
    "    print(configuracion)\n",
    "    print(type(configuracion))\n",
    "establecer_configuraion(saludos=\"algo\", mensaje=\"texto\")"
   ]
  },
  {
   "cell_type": "code",
   "execution_count": 13,
   "metadata": {},
   "outputs": [],
   "source": [
    "def ejemplo(requereido_uno,\n",
    "           requereido_dos,\n",
    "           opcional_uno=1,\n",
    "           opcional_dos=1,\n",
    "           *infinitos,\n",
    "           **kwargs):\n",
    "    printi(\"lol\")"
   ]
  },
  {
   "cell_type": "code",
   "execution_count": null,
   "metadata": {},
   "outputs": [],
   "source": []
  }
 ],
 "metadata": {
  "kernelspec": {
   "display_name": "Python 3",
   "language": "python",
   "name": "python3"
  },
  "language_info": {
   "codemirror_mode": {
    "name": "ipython",
    "version": 3
   },
   "file_extension": ".py",
   "mimetype": "text/x-python",
   "name": "python",
   "nbconvert_exporter": "python",
   "pygments_lexer": "ipython3",
   "version": "3.7.6"
  }
 },
 "nbformat": 4,
 "nbformat_minor": 4
}
