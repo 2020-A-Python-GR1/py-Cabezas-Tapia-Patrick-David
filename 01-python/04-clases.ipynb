{
 "cells": [
  {
   "cell_type": "code",
   "execution_count": 1,
   "metadata": {},
   "outputs": [],
   "source": [
    "al_cuadrado = lambda x : x*x\n"
   ]
  },
  {
   "cell_type": "code",
   "execution_count": 2,
   "metadata": {},
   "outputs": [
    {
     "data": {
      "text/plain": [
       "144"
      ]
     },
     "execution_count": 2,
     "metadata": {},
     "output_type": "execute_result"
    }
   ],
   "source": [
    "al_cuadrado(12)"
   ]
  },
  {
   "cell_type": "code",
   "execution_count": 3,
   "metadata": {},
   "outputs": [],
   "source": [
    "class Nada:\n",
    "    pass"
   ]
  },
  {
   "cell_type": "code",
   "execution_count": 4,
   "metadata": {},
   "outputs": [],
   "source": [
    "una_nada = Nada()"
   ]
  },
  {
   "cell_type": "code",
   "execution_count": 5,
   "metadata": {},
   "outputs": [
    {
     "name": "stdout",
     "output_type": "stream",
     "text": [
      "<__main__.Nada object at 0x7f07173005d0>\n",
      "<class '__main__.Nada'>\n"
     ]
    }
   ],
   "source": [
    "print(una_nada)\n",
    "print(type(una_nada))"
   ]
  },
  {
   "cell_type": "code",
   "execution_count": 14,
   "metadata": {},
   "outputs": [
    {
     "name": "stdout",
     "output_type": "stream",
     "text": [
      "empezo el constructor rojo\n",
      "rojo\n",
      "140.39999999999998\n",
      "color: rojo\n",
      "numero chasis:120\n"
     ]
    }
   ],
   "source": [
    "class Auto:\n",
    "    color = None  ##accso publico\n",
    "    __numero_chasis = 1 #para atrivuto privado\n",
    "    \n",
    "    def __init__(self,color):\n",
    "        self.color=color\n",
    "        print(\"empezo el constructor\",color)\n",
    "    def setear_chasis(self,numero_chasis):\n",
    "        self.__numero_chasis = numero_chasis\n",
    "        return self.__calculo_chasis()\n",
    "    def __calculo_chasis(self):\n",
    "        return self.__numero_chasis*1.17\n",
    "    def __str__(self):\n",
    "        parte_uno = f\"color: {self.color}\\n\"\n",
    "        parte_dos = f\"numero chasis:{self.__numero_chasis}\"\n",
    "        return parte_uno + parte_dos\n",
    "        \n",
    "nuevo_auto = Auto(\"rojo\")  \n",
    "print(nuevo_auto.color)\n",
    "print(nuevo_auto.setear_chasis(120))\n",
    "print(nuevo_auto)"
   ]
  },
  {
   "cell_type": "code",
   "execution_count": 15,
   "metadata": {},
   "outputs": [
    {
     "name": "stdout",
     "output_type": "stream",
     "text": [
      "inicir el constructor hijo\n",
      "empezo el constructor blanco\n",
      "color: blanco\n",
      "numero chasis:150\n"
     ]
    }
   ],
   "source": [
    "class BMW(Auto):\n",
    "    def __init__(self,color,chasis):\n",
    "        print(\"inicir el constructor hijo\")\n",
    "        super().__init__(color)\n",
    "        super().setear_chasis(chasis)\n",
    "nuevo_bmw = BMW(\"blanco\",150)\n",
    "print(nuevo_bmw)"
   ]
  },
  {
   "cell_type": "code",
   "execution_count": null,
   "metadata": {},
   "outputs": [],
   "source": []
  }
 ],
 "metadata": {
  "kernelspec": {
   "display_name": "Python 3",
   "language": "python",
   "name": "python3"
  },
  "language_info": {
   "codemirror_mode": {
    "name": "ipython",
    "version": 3
   },
   "file_extension": ".py",
   "mimetype": "text/x-python",
   "name": "python",
   "nbconvert_exporter": "python",
   "pygments_lexer": "ipython3",
   "version": "3.7.6"
  }
 },
 "nbformat": 4,
 "nbformat_minor": 4
}
