{
 "cells": [
  {
   "cell_type": "code",
   "execution_count": 8,
   "metadata": {},
   "outputs": [
    {
     "data": {
      "text/plain": [
       "<function __main__.calculadora.<locals>.suma()>"
      ]
     },
     "execution_count": 8,
     "metadata": {},
     "output_type": "execute_result"
    }
   ],
   "source": [
    "def calculadora(num_uno,num_dos,operacion = \"suma\"):\n",
    "    def suma():\n",
    "        return num_uno + num_dos\n",
    "    def resta():\n",
    "        return num_uno - num_dos\n",
    "    def multiplicacion():\n",
    "        return num_uno * num_dos\n",
    "    def divicion():\n",
    "        return num_uno / num_dos\n",
    "    def devolver_respuesta():\n",
    "        opciones={\n",
    "            \"suma\":suma,\n",
    "            \"resta\":resta,\n",
    "            \"multiplicacioni\":multiplicacion,\n",
    "            \"divicion\":divicion\n",
    "        }\n",
    "        return opciones[operacion]\n",
    "    return devolver_respuesta()\n",
    "calculadora(2,4,\"resta\")"
   ]
  },
  {
   "cell_type": "code",
   "execution_count": 11,
   "metadata": {},
   "outputs": [
    {
     "name": "stdout",
     "output_type": "stream",
     "text": [
      "dime tu edad23\n",
      "23\n"
     ]
    }
   ],
   "source": [
    "edad = input(\"dime tu edad: \")#para optener datos del usuario.\n",
    "print(edad)"
   ]
  },
  {
   "cell_type": "code",
   "execution_count": null,
   "metadata": {},
   "outputs": [],
   "source": []
  }
 ],
 "metadata": {
  "kernelspec": {
   "display_name": "Python 3",
   "language": "python",
   "name": "python3"
  },
  "language_info": {
   "codemirror_mode": {
    "name": "ipython",
    "version": 3
   },
   "file_extension": ".py",
   "mimetype": "text/x-python",
   "name": "python",
   "nbconvert_exporter": "python",
   "pygments_lexer": "ipython3",
   "version": "3.7.6"
  }
 },
 "nbformat": 4,
 "nbformat_minor": 4
}
