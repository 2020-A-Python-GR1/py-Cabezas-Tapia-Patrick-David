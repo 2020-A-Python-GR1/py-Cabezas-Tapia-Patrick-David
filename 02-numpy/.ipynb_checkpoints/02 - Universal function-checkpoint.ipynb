{
 "cells": [
  {
   "cell_type": "code",
   "execution_count": 1,
   "metadata": {},
   "outputs": [],
   "source": [
    "import numpy as np"
   ]
  },
  {
   "cell_type": "code",
   "execution_count": 2,
   "metadata": {},
   "outputs": [
    {
     "data": {
      "text/plain": [
       "array([ 0, 30, 45, 60, 90])"
      ]
     },
     "execution_count": 2,
     "metadata": {},
     "output_type": "execute_result"
    }
   ],
   "source": [
    "arreglo_grados=np.array([0,30,45,60,90])\n",
    "arreglo_grados"
   ]
  },
  {
   "cell_type": "code",
   "execution_count": 3,
   "metadata": {},
   "outputs": [
    {
     "data": {
      "text/plain": [
       "array([0.        , 0.9424778 , 1.41371669, 1.88495559, 2.82743339])"
      ]
     },
     "execution_count": 3,
     "metadata": {},
     "output_type": "execute_result"
    }
   ],
   "source": [
    "arreglo_radianes = arreglo_grados * np.pi/100\n",
    "arreglo_radianes"
   ]
  },
  {
   "cell_type": "code",
   "execution_count": 4,
   "metadata": {},
   "outputs": [
    {
     "data": {
      "text/plain": [
       "array([0.        , 0.80901699, 0.98768834, 0.95105652, 0.30901699])"
      ]
     },
     "execution_count": 4,
     "metadata": {},
     "output_type": "execute_result"
    }
   ],
   "source": [
    "np.sin(arreglo_radianes)"
   ]
  },
  {
   "cell_type": "code",
   "execution_count": 6,
   "metadata": {},
   "outputs": [
    {
     "data": {
      "text/plain": [
       "5"
      ]
     },
     "execution_count": 6,
     "metadata": {},
     "output_type": "execute_result"
    }
   ],
   "source": [
    "arreglo_randomico=np.random.randint(11)\n",
    "arreglo_randomico"
   ]
  },
  {
   "cell_type": "code",
   "execution_count": 9,
   "metadata": {},
   "outputs": [
    {
     "data": {
      "text/plain": [
       "1"
      ]
     },
     "execution_count": 9,
     "metadata": {},
     "output_type": "execute_result"
    }
   ],
   "source": [
    "numero_random_negativo=np.random.randint(-9,2)\n",
    "numero_random_negativo"
   ]
  },
  {
   "cell_type": "code",
   "execution_count": 13,
   "metadata": {},
   "outputs": [
    {
     "data": {
      "text/plain": [
       "array([11, 17, 14, 17, 13, 13, 17, 11])"
      ]
     },
     "execution_count": 13,
     "metadata": {},
     "output_type": "execute_result"
    }
   ],
   "source": [
    "arreglo_random=np.random.randint(10,20,8)\n",
    "arreglo_random"
   ]
  },
  {
   "cell_type": "code",
   "execution_count": 16,
   "metadata": {},
   "outputs": [
    {
     "data": {
      "text/plain": [
       "array([[[1.60726252e-01, 3.70786568e-01, 9.17408068e-01],\n",
       "        [7.42486762e-01, 3.86620491e-01, 7.11005343e-02],\n",
       "        [4.44577608e-01, 6.23025978e-01, 1.44002874e-01]],\n",
       "\n",
       "       [[4.16310989e-01, 5.06426540e-01, 6.58273676e-02],\n",
       "        [9.37612107e-01, 3.18552021e-01, 8.85378118e-01],\n",
       "        [9.24168013e-04, 2.14861049e-01, 1.41243912e-03]],\n",
       "\n",
       "       [[6.00419427e-01, 6.77716801e-01, 5.93963965e-01],\n",
       "        [5.87466805e-02, 8.42554854e-01, 2.29724804e-01],\n",
       "        [6.62211161e-01, 3.55104168e-01, 7.00294925e-01]],\n",
       "\n",
       "       [[2.68743997e-01, 2.69226770e-01, 9.67108443e-01],\n",
       "        [9.01497001e-01, 3.21367851e-01, 2.77108797e-01],\n",
       "        [6.30568355e-01, 9.53329382e-01, 2.38208786e-01]],\n",
       "\n",
       "       [[5.14470732e-01, 7.44509828e-01, 6.82042880e-01],\n",
       "        [4.03732158e-01, 9.79529535e-01, 2.18947414e-01],\n",
       "        [7.00776282e-01, 3.85499036e-01, 8.64842422e-01]],\n",
       "\n",
       "       [[6.23778718e-01, 1.12919393e-01, 8.52752950e-01],\n",
       "        [1.62378546e-01, 2.12515498e-01, 4.36816501e-01],\n",
       "        [7.63991854e-01, 3.65140903e-01, 7.06244511e-01]],\n",
       "\n",
       "       [[7.67575568e-01, 8.25611323e-02, 1.39381144e-01],\n",
       "        [8.68168303e-01, 7.92556154e-01, 4.26539626e-01],\n",
       "        [8.59269726e-01, 9.68084522e-01, 3.28058507e-01]],\n",
       "\n",
       "       [[4.43686164e-01, 4.51731255e-01, 5.58594915e-01],\n",
       "        [8.82888042e-01, 7.34862843e-01, 9.78205832e-01],\n",
       "        [4.48952886e-01, 7.29864347e-01, 8.66639335e-01]],\n",
       "\n",
       "       [[9.17148505e-01, 4.05359159e-01, 5.95502130e-01],\n",
       "        [1.41390919e-01, 8.42543568e-01, 4.38130703e-01],\n",
       "        [4.42788195e-01, 7.58292642e-01, 1.94518792e-01]]])"
      ]
     },
     "execution_count": 16,
     "metadata": {},
     "output_type": "execute_result"
    }
   ],
   "source": [
    "np.random.rand(9,3,3)"
   ]
  },
  {
   "cell_type": "code",
   "execution_count": 17,
   "metadata": {},
   "outputs": [
    {
     "data": {
      "text/plain": [
       "array([[0.65909778, 0.08061157],\n",
       "       [0.11061098, 0.43794111],\n",
       "       [0.74170473, 0.98578651]])"
      ]
     },
     "execution_count": 17,
     "metadata": {},
     "output_type": "execute_result"
    }
   ],
   "source": [
    "np.random.rand(9)#9 elementos\n",
    "np.random.rand(3,2)# 6 elementos 3x2 dimencion"
   ]
  },
  {
   "cell_type": "code",
   "execution_count": 18,
   "metadata": {},
   "outputs": [
    {
     "data": {
      "text/plain": [
       "14.125"
      ]
     },
     "execution_count": 18,
     "metadata": {},
     "output_type": "execute_result"
    }
   ],
   "source": [
    "np.average(arreglo_random)"
   ]
  },
  {
   "cell_type": "code",
   "execution_count": 19,
   "metadata": {},
   "outputs": [
    {
     "data": {
      "text/plain": [
       "14.125"
      ]
     },
     "execution_count": 19,
     "metadata": {},
     "output_type": "execute_result"
    }
   ],
   "source": [
    "np.mean(arreglo_random)"
   ]
  },
  {
   "cell_type": "code",
   "execution_count": 20,
   "metadata": {},
   "outputs": [
    {
     "data": {
      "text/plain": [
       "13.5"
      ]
     },
     "execution_count": 20,
     "metadata": {},
     "output_type": "execute_result"
    }
   ],
   "source": [
    "np.median(arreglo_random)"
   ]
  },
  {
   "cell_type": "code",
   "execution_count": 21,
   "metadata": {},
   "outputs": [
    {
     "data": {
      "text/plain": [
       "2.4206145913796355"
      ]
     },
     "execution_count": 21,
     "metadata": {},
     "output_type": "execute_result"
    }
   ],
   "source": [
    "np.std(arreglo_random)"
   ]
  },
  {
   "cell_type": "code",
   "execution_count": 22,
   "metadata": {},
   "outputs": [
    {
     "data": {
      "text/plain": [
       "5.859375"
      ]
     },
     "execution_count": 22,
     "metadata": {},
     "output_type": "execute_result"
    }
   ],
   "source": [
    "np.var(arreglo_random)"
   ]
  },
  {
   "cell_type": "code",
   "execution_count": 23,
   "metadata": {},
   "outputs": [
    {
     "data": {
      "text/plain": [
       "14.125"
      ]
     },
     "execution_count": 23,
     "metadata": {},
     "output_type": "execute_result"
    }
   ],
   "source": [
    "arreglo_random.mean()"
   ]
  },
  {
   "cell_type": "code",
   "execution_count": null,
   "metadata": {},
   "outputs": [],
   "source": []
  }
 ],
 "metadata": {
  "kernelspec": {
   "display_name": "Python 3",
   "language": "python",
   "name": "python3"
  },
  "language_info": {
   "codemirror_mode": {
    "name": "ipython",
    "version": 3
   },
   "file_extension": ".py",
   "mimetype": "text/x-python",
   "name": "python",
   "nbconvert_exporter": "python",
   "pygments_lexer": "ipython3",
   "version": "3.7.6"
  }
 },
 "nbformat": 4,
 "nbformat_minor": 4
}
