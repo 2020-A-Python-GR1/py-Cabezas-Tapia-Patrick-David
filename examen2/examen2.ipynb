{
 "cells": [
  {
   "cell_type": "code",
   "execution_count": 1,
   "metadata": {},
   "outputs": [],
   "source": [
    "import pandas as pd\n",
    "import numpy as np"
   ]
  },
  {
   "cell_type": "code",
   "execution_count": 10,
   "metadata": {},
   "outputs": [
    {
     "name": "stdout",
     "output_type": "stream",
     "text": [
      "DataFrame\n",
      "    0  1  2  3  4  5\n",
      "0  4  0  9  7  6  6\n",
      "1  2  8  5  0  6  9\n",
      "2  5  0  2  1  8  2\n",
      "3  3  2  8  2  8  5\n",
      "4  0  0  8  4  7  9\n",
      "5  7  7  2  7  0  0\n",
      "6  4  9  4  8  7  6\n",
      "7  8  6  4  5  5  7\n",
      "8  8  7  7  0  4  6\n",
      "9  9  8  6  5  1  5\n",
      "cinco primeros\n",
      "    0  1  2  3  4  5\n",
      "0  4  0  9  7  6  6\n",
      "1  2  8  5  0  6  9\n",
      "2  5  0  2  1  8  2\n",
      "3  3  2  8  2  8  5\n",
      "4  0  0  8  4  7  9\n",
      "cinco ultimos\n",
      "    0  1  2  3  4  5\n",
      "5  7  7  2  7  0  0\n",
      "6  4  9  4  8  7  6\n",
      "7  8  6  4  5  5  7\n",
      "8  8  7  7  0  4  6\n",
      "9  9  8  6  5  1  5\n"
     ]
    }
   ],
   "source": [
    "# 1) Crea un Dataframe de 10 registros y 6 columnas y consigue las 5 primeros y los 5 ultimos registros\n",
    "df1 = pd.DataFrame(np.random.randint(0, 10, 60).reshape(10,6))\n",
    "\n",
    "print(\"DataFrame\\n\",df1)\n",
    "print(\"cinco primeros\\n\",df1.head())\n",
    "print(\"cinco ultimos\\n\",df1.tail())"
   ]
  },
  {
   "cell_type": "code",
   "execution_count": 15,
   "metadata": {},
   "outputs": [
    {
     "name": "stdout",
     "output_type": "stream",
     "text": [
      "Indices\n",
      " [datetime.date(2020, 9, 22), datetime.date(2020, 9, 22), datetime.date(2020, 9, 22), datetime.date(2020, 9, 22), datetime.date(2020, 9, 22), datetime.date(2020, 9, 22)]\n",
      "Dataframe\n",
      "             A  B  C  D\n",
      "2020-09-22  9  3  9  3\n",
      "2020-09-22  3  5  1  1\n",
      "2020-09-22  0  5  8  5\n",
      "2020-09-22  5  0  3  8\n",
      "2020-09-22  7  9  6  5\n",
      "2020-09-22  2  5  1  7\n"
     ]
    }
   ],
   "source": [
    "## 2) Crear un dataframe pasando un arreglo de numpy de 6 x 4 con una fecha como indice y con columnas A, B, C, D randomico\n",
    "\n",
    "#                  A         B         C         D\n",
    "# 2013-01-01  0.469112 -0.282863 -1.509059 -1.135632\n",
    "# 2013-01-02  1.212112 -0.173215  0.119209 -1.044236\n",
    "# 2013-01-03 -0.861849 -2.104569 -0.494929  1.071804\n",
    "# 2013-01-04  0.721555 -0.706771 -1.039575  0.271860\n",
    "# 2013-01-05 -0.424972  0.567020  0.276232 -1.087401\n",
    "# 2013-01-06 -0.673690  0.113648 -1.478427  0.524988\n",
    "from datetime import date\n",
    "arreglo = np.random.randint(0,10,24).reshape(6, 4)\n",
    "columnas = ['A', 'B', 'C', 'D']\n",
    "indices = [date.today(),\n",
    "           date.today(),\n",
    "           date.today(),\n",
    "           date.today(),\n",
    "           date.today(),\n",
    "           date.today()\n",
    "        ]\n",
    "df2 = pd.DataFrame(\n",
    "        arreglo,\n",
    "        columns = columnas,\n",
    "        index = indices\n",
    "        )\n",
    "print(\"Indices\\n\",indices)\n",
    "print(\"Dataframe\\n\",df2)"
   ]
  },
  {
   "cell_type": "code",
   "execution_count": 21,
   "metadata": {},
   "outputs": [
    {
     "name": "stdout",
     "output_type": "stream",
     "text": [
      "Dataframe\n",
      "    0  1  2  3  4  5\n",
      "0  1  5  4  1  1  1\n",
      "1  4  4  9  3  8  7\n",
      "2  3  7  9  5  0  7\n",
      "3  4  8  4  4  5  6\n",
      "4  2  8  9  8  7  7\n",
      "5  7  5  1  1  4  4\n",
      "6  8  7  8  5  1  9\n",
      "7  2  0  9  7  8  4\n",
      "8  2  0  7  9  4  0\n",
      "9  3  5  1  6  7  0\n",
      "columnas\n",
      " [0 1 2 3 4 5]\n",
      "valores\n",
      " [[1 5 4 1 1 1]\n",
      " [4 4 9 3 8 7]\n",
      " [3 7 9 5 0 7]\n",
      " [4 8 4 4 5 6]\n",
      " [2 8 9 8 7 7]\n",
      " [7 5 1 1 4 4]\n",
      " [8 7 8 5 1 9]\n",
      " [2 0 9 7 8 4]\n",
      " [2 0 7 9 4 0]\n",
      " [3 5 1 6 7 0]]\n"
     ]
    }
   ],
   "source": [
    "## 4) Crear un Dataframe con 10 registros y 6 columnas y con una propiedad del Dataframe mostrar las columnas, con otro comando mostrar los valores.\n",
    "\n",
    "df3 = pd.DataFrame(np.random.randint(0,10,60).reshape(10, 6))\n",
    "\n",
    "print(\"Dataframe\\n\",df3)\n",
    "print(\"columnas\\n\",df3.columns.values)\n",
    "print(\"valores\\n\",df3.values)"
   ]
  },
  {
   "cell_type": "code",
   "execution_count": 25,
   "metadata": {},
   "outputs": [
    {
     "name": "stdout",
     "output_type": "stream",
     "text": [
      "Dataframa\n",
      "    0  1  2  3  4  5\n",
      "0  0  9  4  7  4  8\n",
      "1  7  5  5  6  3  0\n",
      "2  9  1  3  1  0  5\n",
      "3  9  7  0  2  8  0\n",
      "4  1  0  4  0  0  1\n",
      "5  4  4  7  1  2  9\n",
      "6  6  1  1  7  9  8\n",
      "7  7  8  7  1  2  2\n",
      "8  7  4  2  8  8  5\n",
      "9  1  6  7  5  8  1\n",
      "Descripcion\n",
      "                0          1          2          3          4          5\n",
      "count  10.000000  10.000000  10.000000  10.000000  10.000000  10.000000\n",
      "mean    5.100000   4.500000   4.000000   3.800000   4.400000   3.900000\n",
      "std     3.381321   3.100179   2.538591   3.084009   3.533962   3.541814\n",
      "min     0.000000   0.000000   0.000000   0.000000   0.000000   0.000000\n",
      "25%     1.750000   1.750000   2.250000   1.000000   2.000000   1.000000\n",
      "50%     6.500000   4.500000   4.000000   3.500000   3.500000   3.500000\n",
      "75%     7.000000   6.750000   6.500000   6.750000   8.000000   7.250000\n",
      "max     9.000000   9.000000   7.000000   8.000000   9.000000   9.000000\n"
     ]
    }
   ],
   "source": [
    "## 5) Crear un Dataframe con 10 registros y 6 columnas y con una funcion del Dataframe describir estadisticamente el Dataframe\n",
    "\n",
    "df4 = pd.DataFrame(np.random.randint(0,10,60).reshape(10, 6))\n",
    "\n",
    "print(\"Dataframa\\n\",df4)\n",
    "print(\"Descripcion\\n\",df4.describe())"
   ]
  },
  {
   "cell_type": "code",
   "execution_count": 30,
   "metadata": {},
   "outputs": [
    {
     "name": "stdout",
     "output_type": "stream",
     "text": [
      "Dataframa\n",
      "    0  1  2  3  4  5\n",
      "0  7  3  1  7  2  9\n",
      "1  0  6  6  4  2  1\n",
      "2  2  0  3  4  0  0\n",
      "3  1  3  3  3  3  1\n",
      "4  3  0  5  7  0  3\n",
      "5  2  9  8  6  5  5\n",
      "6  2  4  7  7  1  2\n",
      "7  8  1  2  1  8  8\n",
      "8  4  8  0  8  8  1\n",
      "9  7  4  8  3  2  7\n",
      "Transpuesta\n",
      "    0  1  2  3  4  5  6  7  8  9\n",
      "0  7  0  2  1  3  2  2  8  4  7\n",
      "1  3  6  0  3  0  9  4  1  8  4\n",
      "2  1  6  3  3  5  8  7  2  0  8\n",
      "3  7  4  4  3  7  6  7  1  8  3\n",
      "4  2  2  0  3  0  5  1  8  8  2\n",
      "5  9  1  0  1  3  5  2  8  1  7\n"
     ]
    }
   ],
   "source": [
    "\n",
    "## 6) Crear un Dataframe con 10 registros y 6 columnas y con una funcion del Dataframe transponer los datos\n",
    "\n",
    "df5 = pd.DataFrame(np.random.randint(0,10,60).reshape(10, 6))\n",
    "\n",
    "print(\"Dataframa\\n\",df5)\n",
    "print(\"Transpuesta\\n\",df5.transpose())"
   ]
  },
  {
   "cell_type": "code",
   "execution_count": 47,
   "metadata": {},
   "outputs": [
    {
     "name": "stdout",
     "output_type": "stream",
     "text": [
      "Dataframa\n",
      "    0  1  2  3  4  5\n",
      "0  6  0  7  7  3  8\n",
      "1  3  8  1  7  8  2\n",
      "2  5  4  5  0  5  2\n",
      "3  2  8  6  5  0  2\n",
      "4  6  8  7  7  0  9\n",
      "5  2  0  3  5  8  8\n",
      "6  5  9  2  4  6  2\n",
      "7  5  2  3  2  2  1\n",
      "8  1  3  7  5  4  9\n",
      "9  7  2  1  8  9  5\n",
      "Ascendente\n",
      "    0  1  2  3  4  5\n",
      "0  1  0  1  0  0  1\n",
      "1  2  0  1  2  0  2\n",
      "2  2  2  2  4  2  2\n",
      "3  3  2  3  5  3  2\n",
      "4  5  3  3  5  4  2\n",
      "5  5  4  5  5  5  5\n",
      "6  5  8  6  7  6  8\n",
      "7  6  8  7  7  8  8\n",
      "8  6  8  7  7  8  9\n",
      "9  7  9  7  8  9  9\n",
      "Descendente\n",
      "    0  1  2  3  4  5\n",
      "0  7  9  7  8  9  9\n",
      "1  6  8  7  7  8  9\n",
      "2  6  8  7  7  8  8\n",
      "3  5  8  6  7  6  8\n",
      "4  5  4  5  5  5  5\n",
      "5  5  3  3  5  4  2\n",
      "6  3  2  3  5  3  2\n",
      "7  2  2  2  4  2  2\n",
      "8  2  0  1  2  0  2\n",
      "9  1  0  1  0  0  1\n"
     ]
    }
   ],
   "source": [
    "## 7) Crear un Dataframe con 10 registros y 6 columnas y Ordenar el dataframe 1 vez por cada columna, ascendente y descendente\n",
    "\n",
    "df6 = pd.DataFrame(np.random.randint(0,10,60).reshape(10, 6))\n",
    "\n",
    "ascendente = df6.apply(lambda x: x.sort_values().values)\n",
    "descendente = df6.apply(lambda x: x.sort_values(ascending = False).values)\n",
    "\n",
    "print(\"Dataframa\\n\",df6)\n",
    "print(\"Ascendente\\n\",ascendente)\n",
    "print(\"Descendente\\n\",descendente)"
   ]
  },
  {
   "cell_type": "code",
   "execution_count": 53,
   "metadata": {},
   "outputs": [
    {
     "name": "stdout",
     "output_type": "stream",
     "text": [
      "Dataframa\n",
      "    A   B   C   D  E   F\n",
      "0  3   1   7   4  1   3\n",
      "1  3   5   2   4  2   2\n",
      "2  7  10  10  10  3   5\n",
      "3  3   3   6   6  2  10\n",
      "4  9   1  10   2  7   1\n",
      "5  9   6   2   3  2  10\n",
      "6  3   1   3   9  5   2\n",
      "7  6   8  10   3  8   4\n",
      "8  4   6   5   9  4   8\n",
      "9  9   5  10   2  5  10\n",
      "Mayores a 7\n",
      "      A     B     C     D    E     F\n",
      "0  NaN   NaN   NaN   NaN  NaN   NaN\n",
      "1  NaN   NaN   NaN   NaN  NaN   NaN\n",
      "2  NaN  10.0  10.0  10.0  NaN   NaN\n",
      "3  NaN   NaN   NaN   NaN  NaN  10.0\n",
      "4  9.0   NaN  10.0   NaN  NaN   NaN\n",
      "5  9.0   NaN   NaN   NaN  NaN  10.0\n",
      "6  NaN   NaN   NaN   9.0  NaN   NaN\n",
      "7  NaN   8.0  10.0   NaN  8.0   NaN\n",
      "8  NaN   NaN   NaN   9.0  NaN   8.0\n",
      "9  9.0   NaN  10.0   NaN  NaN  10.0\n"
     ]
    }
   ],
   "source": [
    "\n",
    "## 8) Crear un Dataframe con 10 registros y 6 columnas llenas de números randomicos del 1 al 10 y seleccionar en un nuevo Dataframe solo los valores mayores a 7\n",
    "\n",
    "df7 = pd.DataFrame(np.random.randint(1, 11,60).reshape(10,6), columns=list('ABCDEF'))\n",
    "\n",
    "print(\"Dataframa\\n\",df7)\n",
    "print(\"Mayores a 7\\n\",df7.where(df7>7))"
   ]
  },
  {
   "cell_type": "code",
   "execution_count": 66,
   "metadata": {},
   "outputs": [
    {
     "name": "stdout",
     "output_type": "stream",
     "text": [
      "Dataframa\n",
      "     0   1   2  3  4   5\n",
      "0   9   1   7  8  4   6\n",
      "1  10   8  10  4  9   6\n",
      "2   3   6   9  9  7   1\n",
      "3   4   4   5  7  4  10\n",
      "4   5   1   9  6  6  10\n",
      "5   7   6   3  4  9   5\n",
      "6   6   7   1  8  4   5\n",
      "7   2   4   5  2  6   8\n",
      "8   2  10  10  4  2   2\n",
      "9  10   8  10  2  5   2\n",
      "Valores no NaN\n",
      "       0     1     2    3    4     5\n",
      "0   9.0   0.0   7.0  8.0  0.0   6.0\n",
      "1  10.0   8.0  10.0  0.0  9.0   6.0\n",
      "2   0.0   6.0   9.0  9.0  7.0   0.0\n",
      "3   0.0   0.0   5.0  7.0  0.0  10.0\n",
      "4   5.0   0.0   9.0  6.0  6.0  10.0\n",
      "5   7.0   6.0   0.0  0.0  9.0   5.0\n",
      "6   6.0   7.0   0.0  8.0  0.0   5.0\n",
      "7   0.0   0.0   5.0  0.0  6.0   8.0\n",
      "8   0.0  10.0  10.0  0.0  0.0   0.0\n",
      "9  10.0   8.0  10.0  0.0  5.0   0.0\n"
     ]
    }
   ],
   "source": [
    "## 9) Crear un Dataframe con 10 registros y 6 columnas llenas de números randomicos del 1 al 10 o valores NaN. Luego llenar los valores NaN con 0.\n",
    "\n",
    "df8 = pd.DataFrame(np.random.randint(1,11,60).reshape(10, 6))\n",
    "df8_nan = df8.where(df8>4)\n",
    "\n",
    "print(\"Dataframa\\n\",df8)\n",
    "print(\"Valores no NaN\\n\",df8_nan.fillna(0))"
   ]
  },
  {
   "cell_type": "code",
   "execution_count": 67,
   "metadata": {},
   "outputs": [
    {
     "name": "stdout",
     "output_type": "stream",
     "text": [
      "Dataframa\n",
      "     0  1   2   3   4   5\n",
      "0  10  9   8   1   2   3\n",
      "1  10  9   4   1   6   4\n",
      "2   5  2   9   6  10   3\n",
      "3   1  3  10   5  10  10\n",
      "4   9  3   3   3  10  10\n",
      "5   1  8  10   9  10   8\n",
      "6   3  8   8   9   6   8\n",
      "7   2  8   4   8   1   1\n",
      "8  10  9  10  10  10   5\n",
      "9   3  7   7   4   9  10\n",
      "media\n",
      " 0    5.4\n",
      "1    6.6\n",
      "2    7.3\n",
      "3    5.6\n",
      "4    7.4\n",
      "5    6.2\n",
      "dtype: float64\n",
      "mediana\n",
      " 0    4.0\n",
      "1    8.0\n",
      "2    8.0\n",
      "3    5.5\n",
      "4    9.5\n",
      "5    6.5\n",
      "dtype: float64\n",
      "promedio\n",
      " 6.416666666666667\n"
     ]
    }
   ],
   "source": [
    "## 10) Crear un Dataframe con 10 registros y 6 columnas llenas de números randomicos del 1 al 10 y sacar la media, la mediana, el promedio\n",
    "\n",
    "df9 = pd.DataFrame(np.random.randint(1,11,60).reshape(10, 6))\n",
    "\n",
    "print(\"Dataframa\\n\",df9)\n",
    "print(\"media\\n\",df9.mean())\n",
    "print(\"mediana\\n\",df9.median())\n",
    "print(\"promedio\\n\",np.average(df9))"
   ]
  },
  {
   "cell_type": "code",
   "execution_count": 73,
   "metadata": {},
   "outputs": [
    {
     "name": "stdout",
     "output_type": "stream",
     "text": [
      "Dataframa 1\n",
      "     0   1   2  3   4   5\n",
      "0   4   2   3  5  10   6\n",
      "1  10   7   3  4   1   7\n",
      "2   7   1   5  9  10   9\n",
      "3   5   1   6  7   4   7\n",
      "4  10  10  10  2   6   1\n",
      "5   3   2   5  7   8   7\n",
      "6   3  10   4  1  10   7\n",
      "7   2  10  10  1   8   8\n",
      "8   2   7   7  8   8   1\n",
      "9   1   9   3  1  10  10\n",
      "Dataframa 2\n",
      "    0  1   2   3  4   5\n",
      "0  5  1   7   8  1   8\n",
      "1  7  7   4   5  6   7\n",
      "2  1  1  10   6  3   1\n",
      "3  4  4   7   7  4  10\n",
      "4  4  8   2  10  9   8\n",
      "5  4  3   1  10  4   5\n",
      "6  4  8   3   7  8   6\n",
      "7  8  7   3   9  3   3\n",
      "8  4  6   8   9  4   7\n",
      "9  8  6   6   6  8   3\n",
      "Dataframa juntos\n",
      "     0   1   2   3   4   5\n",
      "0   4   2   3   5  10   6\n",
      "1  10   7   3   4   1   7\n",
      "2   7   1   5   9  10   9\n",
      "3   5   1   6   7   4   7\n",
      "4  10  10  10   2   6   1\n",
      "5   3   2   5   7   8   7\n",
      "6   3  10   4   1  10   7\n",
      "7   2  10  10   1   8   8\n",
      "8   2   7   7   8   8   1\n",
      "9   1   9   3   1  10  10\n",
      "0   5   1   7   8   1   8\n",
      "1   7   7   4   5   6   7\n",
      "2   1   1  10   6   3   1\n",
      "3   4   4   7   7   4  10\n",
      "4   4   8   2  10   9   8\n",
      "5   4   3   1  10   4   5\n",
      "6   4   8   3   7   8   6\n",
      "7   8   7   3   9   3   3\n",
      "8   4   6   8   9   4   7\n",
      "9   8   6   6   6   8   3\n"
     ]
    }
   ],
   "source": [
    "## 11) Crear un Dataframe con 10 registros y 6 columnas llenas de números randomicos del 1 al 10, luego crear otro dateframe con 10 registros y 6 columnas llenas de números randomicos del 1 al 10 y anadirlo al primer Dataframe\n",
    "df10 = pd.DataFrame(np.random.randint(1,11,60).reshape(10, 6))\n",
    "df11 = pd.DataFrame(np.random.randint(1,11,60).reshape(10, 6))\n",
    "\n",
    "print(\"Dataframa 1\\n\",df10)\n",
    "print(\"Dataframa 2\\n\",df11)\n",
    "print(\"Dataframa juntos\\n\",df10.append(df11))"
   ]
  },
  {
   "cell_type": "code",
   "execution_count": 100,
   "metadata": {},
   "outputs": [
    {
     "name": "stdout",
     "output_type": "stream",
     "text": [
      "Dataframa\n",
      "        0      1       2       3       4       5\n",
      "0    uno    uno     uno    tres    tres     uno\n",
      "1   tres    dos     dos    tres   cinco   cinco\n",
      "2   tres   tres     uno     dos     uno  cuatro\n",
      "3    uno    dos    seis   cinco     dos    tres\n",
      "4  cinco    uno     uno    tres     uno    tres\n",
      "5    uno    dos  cuatro     dos     dos     dos\n",
      "6    dos  cinco    seis    seis  cuatro     dos\n",
      "7   seis  cinco    tres   cinco   cinco    tres\n",
      "8    uno    dos     dos  cuatro     dos  cuatro\n",
      "9    uno  cinco    seis  cuatro    tres  cuatro\n",
      "Dataframa Final\n",
      "             0            1            2\n",
      "0     uno uno     uno tres     tres uno\n",
      "1    tres dos     dos tres  cinco cinco\n",
      "2   tres tres      uno dos   uno cuatro\n",
      "3     uno dos   seis cinco     dos tres\n",
      "4   cinco uno     uno tres     uno tres\n",
      "5     uno dos   cuatro dos      dos dos\n",
      "6   dos cinco    seis seis   cuatro dos\n",
      "7  seis cinco   tres cinco   cinco tres\n",
      "8     uno dos   dos cuatro   dos cuatro\n",
      "9   uno cinco  seis cuatro  tres cuatro\n"
     ]
    }
   ],
   "source": [
    "## 12) Crear un Dataframe con 10 registros y 6 columnas llenas de strings. Luego, unir la columna 1 y 2 en una sola, la 3 y 4, y la 5 y 6 concatenando su texto.\n",
    "\n",
    "df12 = pd.DataFrame(np.random.choice(['uno', 'dos', 'tres', 'cuatro', 'cinco', 'seis'], 60).reshape(10,6))\n",
    "\n",
    "df_final = pd.DataFrame(df12[0]+\" \"+df12[1])\n",
    "df_final[1] = pd.DataFrame(df12[2]+\" \"+df12[3])\n",
    "df_final[2] = pd.DataFrame(df12[4]+\" \"+df12[5])\n",
    "\n",
    "print(\"Dataframa\\n\",df12)\n",
    "print(\"Dataframa Final\\n\",df_final)"
   ]
  },
  {
   "cell_type": "code",
   "execution_count": 96,
   "metadata": {},
   "outputs": [
    {
     "name": "stdout",
     "output_type": "stream",
     "text": [
      "Dataframa\n",
      "     0  1   2   3   4  5\n",
      "0   8  9   9   9   4  3\n",
      "1   3  1   7   1   6  8\n",
      "2   1  7   3  10  10  4\n",
      "3  10  3  10  10   2  6\n",
      "4   5  9   4   2   3  2\n",
      "5   8  4   7   9   6  6\n",
      "6   3  6   7  10  10  6\n",
      "7   4  8   8   7   3  2\n",
      "8   9  1   7   4   5  8\n",
      "9   7  7   9   7   2  3\n",
      "Columna 0\n",
      "8     2\n",
      "3     2\n",
      "10    1\n",
      "9     1\n",
      "7     1\n",
      "5     1\n",
      "4     1\n",
      "1     1\n",
      "Name: 0, dtype: int64\n",
      "Columna 1\n",
      "9    2\n",
      "7    2\n",
      "1    2\n",
      "8    1\n",
      "6    1\n",
      "4    1\n",
      "3    1\n",
      "Name: 1, dtype: int64\n",
      "Columna 2\n",
      "7     4\n",
      "9     2\n",
      "10    1\n",
      "8     1\n",
      "4     1\n",
      "3     1\n",
      "Name: 2, dtype: int64\n",
      "Columna 3\n",
      "10    3\n",
      "9     2\n",
      "7     2\n",
      "4     1\n",
      "2     1\n",
      "1     1\n",
      "Name: 3, dtype: int64\n",
      "Columna 4\n",
      "10    2\n",
      "6     2\n",
      "3     2\n",
      "2     2\n",
      "5     1\n",
      "4     1\n",
      "Name: 4, dtype: int64\n",
      "Columna 5\n",
      "6    3\n",
      "8    2\n",
      "3    2\n",
      "2    2\n",
      "4    1\n",
      "Name: 5, dtype: int64\n"
     ]
    }
   ],
   "source": [
    "## 13) Crear un Dataframe con 10 registros y 6 columnas llenas de números randomicos del 1 al 10 enteros, obtener la frecuencia de repeticion de los numeros enteros en cada columna\n",
    "\n",
    "df12 = pd.DataFrame(np.random.randint(1,11,60).reshape(10, 6))\n",
    "print(\"Dataframa\\n\",df12)\n",
    "\n",
    "for column in df12.columns.values:\n",
    "    print(\"Columna \" + str(column))\n",
    "    print(df12[column].value_counts())\n",
    "    "
   ]
  },
  {
   "cell_type": "code",
   "execution_count": 92,
   "metadata": {},
   "outputs": [
    {
     "name": "stdout",
     "output_type": "stream",
     "text": [
      "Dataframa\n",
      "    A  B  C\n",
      "0  1  5  5\n",
      "1  5  4  8\n",
      "2  3  9  4\n",
      "3  3  9  9\n",
      "4  5  3  4\n",
      "5  5  6  9\n",
      "6  2  5  1\n",
      "7  3  1  9\n",
      "8  8  1  3\n",
      "9  2  7  8\n",
      "resultados\n",
      "    A  B  C    Calculo\n",
      "0  1  5  5   1.000000\n",
      "1  5  4  8   2.500000\n",
      "2  3  9  4   6.750000\n",
      "3  3  9  9   3.000000\n",
      "4  5  3  4   3.750000\n",
      "5  5  6  9   3.333333\n",
      "6  2  5  1  10.000000\n",
      "7  3  1  9   0.333333\n",
      "8  8  1  3   2.666667\n",
      "9  2  7  8   1.750000\n"
     ]
    }
   ],
   "source": [
    "\n",
    "## 14) Crear un Dataframe con 10 registros y 3 columnas, A B C, llenas de números randomicos del 1 al 10 enteros. Crear una nueva columna con el calculo por fila (A * B ) / C\n",
    "\n",
    "df13 = pd.DataFrame(np.random.randint(1,10,30).reshape(10, 3), columns = ['A', 'B', 'C'])\n",
    "\n",
    "print(\"Dataframa\\n\",df13)\n",
    "df13['Calculo'] = ((df13['A'] * df13['B']) / df13['C'])\n",
    "print(\"resultados\\n\",df13)"
   ]
  },
  {
   "cell_type": "code",
   "execution_count": null,
   "metadata": {},
   "outputs": [],
   "source": []
  },
  {
   "cell_type": "code",
   "execution_count": null,
   "metadata": {},
   "outputs": [],
   "source": []
  }
 ],
 "metadata": {
  "kernelspec": {
   "display_name": "Python 3",
   "language": "python",
   "name": "python3"
  },
  "language_info": {
   "codemirror_mode": {
    "name": "ipython",
    "version": 3
   },
   "file_extension": ".py",
   "mimetype": "text/x-python",
   "name": "python",
   "nbconvert_exporter": "python",
   "pygments_lexer": "ipython3",
   "version": "3.7.6"
  }
 },
 "nbformat": 4,
 "nbformat_minor": 4
}
